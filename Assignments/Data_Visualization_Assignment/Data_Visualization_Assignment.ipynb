{
 "cells": [
  {
   "cell_type": "code",
   "execution_count": 1,
   "id": "c5fa6b7a",
   "metadata": {},
   "outputs": [],
   "source": [
    "import pandas as pd"
   ]
  },
  {
   "cell_type": "code",
   "execution_count": 7,
   "id": "5f375466",
   "metadata": {},
   "outputs": [],
   "source": [
    "df = pd.read_csv(\"https://raw.githubusercontent.com/ZoeLeBlanc/visualizing_humanities_data_workshop/master/web_scraped_humanist_listserv.csv\")"
   ]
  },
  {
   "cell_type": "code",
   "execution_count": 13,
   "id": "7b642e84",
   "metadata": {},
   "outputs": [
    {
     "name": "stderr",
     "output_type": "stream",
     "text": [
      "[nltk_data] Downloading package punkt to\n",
      "[nltk_data]     /Users/YingyuChen/nltk_data...\n",
      "[nltk_data]   Package punkt is already up-to-date!\n",
      "[nltk_data] Downloading package stopwords to\n",
      "[nltk_data]     /Users/YingyuChen/nltk_data...\n",
      "[nltk_data]   Package stopwords is already up-to-date!\n"
     ]
    }
   ],
   "source": [
    "import nltk\n",
    "nltk.download('punkt')\n",
    "from nltk import word_tokenize\n",
    "from nltk import FreqDist\n",
    "from nltk.stem import PorterStemmer\n",
    "nltk.download('stopwords')\n",
    "from nltk.corpus import stopwords\n",
    "stop_words = set(stopwords.words('english'))\n",
    "porter = PorterStemmer()\n",
    "from sklearn.feature_extraction.text import TfidfVectorizer\n",
    "import altair as alt\n",
    "from vega_datasets import data"
   ]
  },
  {
   "cell_type": "code",
   "execution_count": 14,
   "id": "f2de8f57",
   "metadata": {},
   "outputs": [
    {
     "data": {
      "text/html": [
       "<div>\n",
       "<style scoped>\n",
       "    .dataframe tbody tr th:only-of-type {\n",
       "        vertical-align: middle;\n",
       "    }\n",
       "\n",
       "    .dataframe tbody tr th {\n",
       "        vertical-align: top;\n",
       "    }\n",
       "\n",
       "    .dataframe thead th {\n",
       "        text-align: right;\n",
       "    }\n",
       "</style>\n",
       "<table border=\"1\" class=\"dataframe\">\n",
       "  <thead>\n",
       "    <tr style=\"text-align: right;\">\n",
       "      <th></th>\n",
       "      <th>dates</th>\n",
       "      <th>text</th>\n",
       "      <th>year_start</th>\n",
       "      <th>year_end</th>\n",
       "      <th>volume_size</th>\n",
       "    </tr>\n",
       "  </thead>\n",
       "  <tbody>\n",
       "    <tr>\n",
       "      <th>0</th>\n",
       "      <td>1987-1988</td>\n",
       "      <td>From: MCCARTY@UTOREPAS\\nSubject: \\nDate: 12 Ma...</td>\n",
       "      <td>1987</td>\n",
       "      <td>1988</td>\n",
       "      <td>50794</td>\n",
       "    </tr>\n",
       "    <tr>\n",
       "      <th>1</th>\n",
       "      <td>1988-1989</td>\n",
       "      <td>From: Sebastian Rahtz \\nSubject: C++ and Gnu o...</td>\n",
       "      <td>1988</td>\n",
       "      <td>1989</td>\n",
       "      <td>36109</td>\n",
       "    </tr>\n",
       "    <tr>\n",
       "      <th>2</th>\n",
       "      <td>1989-1990</td>\n",
       "      <td>From: Willard McCarty \\nSubject: Happy Birthda...</td>\n",
       "      <td>1989</td>\n",
       "      <td>1990</td>\n",
       "      <td>108695</td>\n",
       "    </tr>\n",
       "    <tr>\n",
       "      <th>3</th>\n",
       "      <td>1990-1991</td>\n",
       "      <td>From: Elaine Brennan &amp; Allen Renear \\nSubject:...</td>\n",
       "      <td>1990</td>\n",
       "      <td>1991</td>\n",
       "      <td>118929</td>\n",
       "    </tr>\n",
       "    <tr>\n",
       "      <th>4</th>\n",
       "      <td>1991-1992</td>\n",
       "      <td>From: Elaine Brennan &amp; Allen Renear \\nSubject:...</td>\n",
       "      <td>1991</td>\n",
       "      <td>1992</td>\n",
       "      <td>81193</td>\n",
       "    </tr>\n",
       "    <tr>\n",
       "      <th>5</th>\n",
       "      <td>1992-1993</td>\n",
       "      <td>From: Elaine M Brennan \\nSubject: Humanist's B...</td>\n",
       "      <td>1992</td>\n",
       "      <td>1993</td>\n",
       "      <td>59957</td>\n",
       "    </tr>\n",
       "    <tr>\n",
       "      <th>6</th>\n",
       "      <td>1993-1994</td>\n",
       "      <td>From: 6500card%ucsbuxa@hub.ucsb.edu (Cheryl A....</td>\n",
       "      <td>1993</td>\n",
       "      <td>1994</td>\n",
       "      <td>71763</td>\n",
       "    </tr>\n",
       "    <tr>\n",
       "      <th>7</th>\n",
       "      <td>1994-1995</td>\n",
       "      <td>From: Andrew Burday \\nSubject: Re: 7.0638 Qs: ...</td>\n",
       "      <td>1994</td>\n",
       "      <td>1995</td>\n",
       "      <td>46569</td>\n",
       "    </tr>\n",
       "    <tr>\n",
       "      <th>8</th>\n",
       "      <td>1995-1996</td>\n",
       "      <td>From: \"Gregory Bloomquist\" \\nSubject: Round Ta...</td>\n",
       "      <td>1995</td>\n",
       "      <td>1996</td>\n",
       "      <td>61076</td>\n",
       "    </tr>\n",
       "    <tr>\n",
       "      <th>9</th>\n",
       "      <td>1996-1997</td>\n",
       "      <td>From: Humanist \\nSubject: Humanist begins its ...</td>\n",
       "      <td>1996</td>\n",
       "      <td>1997</td>\n",
       "      <td>52506</td>\n",
       "    </tr>\n",
       "    <tr>\n",
       "      <th>10</th>\n",
       "      <td>1997-1998</td>\n",
       "      <td>From: Willard McCarty \\nSubject: mind no mind\\...</td>\n",
       "      <td>1997</td>\n",
       "      <td>1998</td>\n",
       "      <td>89100</td>\n",
       "    </tr>\n",
       "    <tr>\n",
       "      <th>11</th>\n",
       "      <td>1998-1999</td>\n",
       "      <td>From: Willard McCarty \\nSubject: one more than...</td>\n",
       "      <td>1998</td>\n",
       "      <td>1999</td>\n",
       "      <td>70304</td>\n",
       "    </tr>\n",
       "    <tr>\n",
       "      <th>12</th>\n",
       "      <td>1999-2000</td>\n",
       "      <td>From: Willard McCarty \\nSubject: HAPPY now we ...</td>\n",
       "      <td>1999</td>\n",
       "      <td>2000</td>\n",
       "      <td>72641</td>\n",
       "    </tr>\n",
       "    <tr>\n",
       "      <th>13</th>\n",
       "      <td>2000-2001</td>\n",
       "      <td>From: Willard McCarty \\nSubject: HAPPY now we ...</td>\n",
       "      <td>2000</td>\n",
       "      <td>2001</td>\n",
       "      <td>89197</td>\n",
       "    </tr>\n",
       "    <tr>\n",
       "      <th>14</th>\n",
       "      <td>2001-2002</td>\n",
       "      <td>From: Willard McCarty \\nSubject: 14\\nDate: Mon...</td>\n",
       "      <td>2001</td>\n",
       "      <td>2002</td>\n",
       "      <td>85729</td>\n",
       "    </tr>\n",
       "    <tr>\n",
       "      <th>15</th>\n",
       "      <td>2002-2003</td>\n",
       "      <td>From: NINCH-ANNOUNCE \\nSubject: New Project: \"...</td>\n",
       "      <td>2002</td>\n",
       "      <td>2003</td>\n",
       "      <td>80589</td>\n",
       "    </tr>\n",
       "    <tr>\n",
       "      <th>16</th>\n",
       "      <td>2003-2004</td>\n",
       "      <td>From: Willard McCarty \\nSubject: Happy Sweet 1...</td>\n",
       "      <td>2003</td>\n",
       "      <td>2004</td>\n",
       "      <td>95265</td>\n",
       "    </tr>\n",
       "    <tr>\n",
       "      <th>17</th>\n",
       "      <td>2004-2005</td>\n",
       "      <td>From: Willard McCarty \\nSubject: happy 17th bi...</td>\n",
       "      <td>2004</td>\n",
       "      <td>2005</td>\n",
       "      <td>55776</td>\n",
       "    </tr>\n",
       "    <tr>\n",
       "      <th>18</th>\n",
       "      <td>2005-2006</td>\n",
       "      <td>From: Willard McCarty \\nSubject: Happy 18th bi...</td>\n",
       "      <td>2005</td>\n",
       "      <td>2006</td>\n",
       "      <td>53619</td>\n",
       "    </tr>\n",
       "    <tr>\n",
       "      <th>19</th>\n",
       "      <td>2006-2007</td>\n",
       "      <td>From: Willard McCarty \\nSubject: Happy 19th bi...</td>\n",
       "      <td>2006</td>\n",
       "      <td>2007</td>\n",
       "      <td>44493</td>\n",
       "    </tr>\n",
       "    <tr>\n",
       "      <th>20</th>\n",
       "      <td>2007-2008</td>\n",
       "      <td>From: Willard McCarty \\nSubject: Humanist's 20...</td>\n",
       "      <td>2007</td>\n",
       "      <td>2008</td>\n",
       "      <td>38994</td>\n",
       "    </tr>\n",
       "  </tbody>\n",
       "</table>\n",
       "</div>"
      ],
      "text/plain": [
       "        dates                                               text year_start  \\\n",
       "0   1987-1988  From: MCCARTY@UTOREPAS\\nSubject: \\nDate: 12 Ma...       1987   \n",
       "1   1988-1989  From: Sebastian Rahtz \\nSubject: C++ and Gnu o...       1988   \n",
       "2   1989-1990  From: Willard McCarty \\nSubject: Happy Birthda...       1989   \n",
       "3   1990-1991  From: Elaine Brennan & Allen Renear \\nSubject:...       1990   \n",
       "4   1991-1992  From: Elaine Brennan & Allen Renear \\nSubject:...       1991   \n",
       "5   1992-1993  From: Elaine M Brennan \\nSubject: Humanist's B...       1992   \n",
       "6   1993-1994  From: 6500card%ucsbuxa@hub.ucsb.edu (Cheryl A....       1993   \n",
       "7   1994-1995  From: Andrew Burday \\nSubject: Re: 7.0638 Qs: ...       1994   \n",
       "8   1995-1996  From: \"Gregory Bloomquist\" \\nSubject: Round Ta...       1995   \n",
       "9   1996-1997  From: Humanist \\nSubject: Humanist begins its ...       1996   \n",
       "10  1997-1998  From: Willard McCarty \\nSubject: mind no mind\\...       1997   \n",
       "11  1998-1999  From: Willard McCarty \\nSubject: one more than...       1998   \n",
       "12  1999-2000  From: Willard McCarty \\nSubject: HAPPY now we ...       1999   \n",
       "13  2000-2001  From: Willard McCarty \\nSubject: HAPPY now we ...       2000   \n",
       "14  2001-2002  From: Willard McCarty \\nSubject: 14\\nDate: Mon...       2001   \n",
       "15  2002-2003  From: NINCH-ANNOUNCE \\nSubject: New Project: \"...       2002   \n",
       "16  2003-2004  From: Willard McCarty \\nSubject: Happy Sweet 1...       2003   \n",
       "17  2004-2005  From: Willard McCarty \\nSubject: happy 17th bi...       2004   \n",
       "18  2005-2006  From: Willard McCarty \\nSubject: Happy 18th bi...       2005   \n",
       "19  2006-2007  From: Willard McCarty \\nSubject: Happy 19th bi...       2006   \n",
       "20  2007-2008  From: Willard McCarty \\nSubject: Humanist's 20...       2007   \n",
       "\n",
       "   year_end  volume_size  \n",
       "0      1988        50794  \n",
       "1      1989        36109  \n",
       "2      1990       108695  \n",
       "3      1991       118929  \n",
       "4      1992        81193  \n",
       "5      1993        59957  \n",
       "6      1994        71763  \n",
       "7      1995        46569  \n",
       "8      1996        61076  \n",
       "9      1997        52506  \n",
       "10     1998        89100  \n",
       "11     1999        70304  \n",
       "12     2000        72641  \n",
       "13     2001        89197  \n",
       "14     2002        85729  \n",
       "15     2003        80589  \n",
       "16     2004        95265  \n",
       "17     2005        55776  \n",
       "18     2006        53619  \n",
       "19     2007        44493  \n",
       "20     2008        38994  "
      ]
     },
     "execution_count": 14,
     "metadata": {},
     "output_type": "execute_result"
    }
   ],
   "source": [
    "df['year_start'] = df['dates'].str.split('-').str[0]\n",
    "df['year_end'] = df['dates'].str.split('-').str[1]\n",
    "df['volume_size'] = df['text'].str.count('\\n')\n",
    "df = df.iloc[:21]\n",
    "df"
   ]
  },
  {
   "cell_type": "code",
   "execution_count": 15,
   "id": "f9255d33",
   "metadata": {},
   "outputs": [],
   "source": [
    "def stem_words(row):\n",
    "    stemmed_words = ''\n",
    "    for token in row.text.split(' '):\n",
    "        stemmed_words += porter.stem(token) + ' '\n",
    "    return stemmed_words\n",
    "\n",
    "df['stemmed_text'] = df.apply(stem_words, axis=1)"
   ]
  },
  {
   "cell_type": "code",
   "execution_count": 16,
   "id": "0a7266bb",
   "metadata": {},
   "outputs": [
    {
     "name": "stderr",
     "output_type": "stream",
     "text": [
      "/Users/YingyuChen/opt/anaconda3/lib/python3.8/site-packages/sklearn/utils/deprecation.py:87: FutureWarning: Function get_feature_names is deprecated; get_feature_names is deprecated in 1.0 and will be removed in 1.2. Please use get_feature_names_out instead.\n",
      "  warnings.warn(msg, category=FutureWarning)\n",
      "/Users/YingyuChen/opt/anaconda3/lib/python3.8/site-packages/sklearn/utils/deprecation.py:87: FutureWarning: Function get_feature_names is deprecated; get_feature_names is deprecated in 1.0 and will be removed in 1.2. Please use get_feature_names_out instead.\n",
      "  warnings.warn(msg, category=FutureWarning)\n",
      "/Users/YingyuChen/opt/anaconda3/lib/python3.8/site-packages/sklearn/utils/deprecation.py:87: FutureWarning: Function get_feature_names is deprecated; get_feature_names is deprecated in 1.0 and will be removed in 1.2. Please use get_feature_names_out instead.\n",
      "  warnings.warn(msg, category=FutureWarning)\n",
      "/Users/YingyuChen/opt/anaconda3/lib/python3.8/site-packages/sklearn/utils/deprecation.py:87: FutureWarning: Function get_feature_names is deprecated; get_feature_names is deprecated in 1.0 and will be removed in 1.2. Please use get_feature_names_out instead.\n",
      "  warnings.warn(msg, category=FutureWarning)\n",
      "/Users/YingyuChen/opt/anaconda3/lib/python3.8/site-packages/sklearn/utils/deprecation.py:87: FutureWarning: Function get_feature_names is deprecated; get_feature_names is deprecated in 1.0 and will be removed in 1.2. Please use get_feature_names_out instead.\n",
      "  warnings.warn(msg, category=FutureWarning)\n",
      "/Users/YingyuChen/opt/anaconda3/lib/python3.8/site-packages/sklearn/utils/deprecation.py:87: FutureWarning: Function get_feature_names is deprecated; get_feature_names is deprecated in 1.0 and will be removed in 1.2. Please use get_feature_names_out instead.\n",
      "  warnings.warn(msg, category=FutureWarning)\n",
      "/Users/YingyuChen/opt/anaconda3/lib/python3.8/site-packages/sklearn/utils/deprecation.py:87: FutureWarning: Function get_feature_names is deprecated; get_feature_names is deprecated in 1.0 and will be removed in 1.2. Please use get_feature_names_out instead.\n",
      "  warnings.warn(msg, category=FutureWarning)\n",
      "/Users/YingyuChen/opt/anaconda3/lib/python3.8/site-packages/sklearn/utils/deprecation.py:87: FutureWarning: Function get_feature_names is deprecated; get_feature_names is deprecated in 1.0 and will be removed in 1.2. Please use get_feature_names_out instead.\n",
      "  warnings.warn(msg, category=FutureWarning)\n",
      "/Users/YingyuChen/opt/anaconda3/lib/python3.8/site-packages/sklearn/utils/deprecation.py:87: FutureWarning: Function get_feature_names is deprecated; get_feature_names is deprecated in 1.0 and will be removed in 1.2. Please use get_feature_names_out instead.\n",
      "  warnings.warn(msg, category=FutureWarning)\n",
      "/Users/YingyuChen/opt/anaconda3/lib/python3.8/site-packages/sklearn/utils/deprecation.py:87: FutureWarning: Function get_feature_names is deprecated; get_feature_names is deprecated in 1.0 and will be removed in 1.2. Please use get_feature_names_out instead.\n",
      "  warnings.warn(msg, category=FutureWarning)\n",
      "/Users/YingyuChen/opt/anaconda3/lib/python3.8/site-packages/sklearn/utils/deprecation.py:87: FutureWarning: Function get_feature_names is deprecated; get_feature_names is deprecated in 1.0 and will be removed in 1.2. Please use get_feature_names_out instead.\n",
      "  warnings.warn(msg, category=FutureWarning)\n",
      "/Users/YingyuChen/opt/anaconda3/lib/python3.8/site-packages/sklearn/utils/deprecation.py:87: FutureWarning: Function get_feature_names is deprecated; get_feature_names is deprecated in 1.0 and will be removed in 1.2. Please use get_feature_names_out instead.\n",
      "  warnings.warn(msg, category=FutureWarning)\n",
      "/Users/YingyuChen/opt/anaconda3/lib/python3.8/site-packages/sklearn/utils/deprecation.py:87: FutureWarning: Function get_feature_names is deprecated; get_feature_names is deprecated in 1.0 and will be removed in 1.2. Please use get_feature_names_out instead.\n",
      "  warnings.warn(msg, category=FutureWarning)\n",
      "/Users/YingyuChen/opt/anaconda3/lib/python3.8/site-packages/sklearn/utils/deprecation.py:87: FutureWarning: Function get_feature_names is deprecated; get_feature_names is deprecated in 1.0 and will be removed in 1.2. Please use get_feature_names_out instead.\n",
      "  warnings.warn(msg, category=FutureWarning)\n",
      "/Users/YingyuChen/opt/anaconda3/lib/python3.8/site-packages/sklearn/utils/deprecation.py:87: FutureWarning: Function get_feature_names is deprecated; get_feature_names is deprecated in 1.0 and will be removed in 1.2. Please use get_feature_names_out instead.\n",
      "  warnings.warn(msg, category=FutureWarning)\n",
      "/Users/YingyuChen/opt/anaconda3/lib/python3.8/site-packages/sklearn/utils/deprecation.py:87: FutureWarning: Function get_feature_names is deprecated; get_feature_names is deprecated in 1.0 and will be removed in 1.2. Please use get_feature_names_out instead.\n",
      "  warnings.warn(msg, category=FutureWarning)\n",
      "/Users/YingyuChen/opt/anaconda3/lib/python3.8/site-packages/sklearn/utils/deprecation.py:87: FutureWarning: Function get_feature_names is deprecated; get_feature_names is deprecated in 1.0 and will be removed in 1.2. Please use get_feature_names_out instead.\n",
      "  warnings.warn(msg, category=FutureWarning)\n",
      "/Users/YingyuChen/opt/anaconda3/lib/python3.8/site-packages/sklearn/utils/deprecation.py:87: FutureWarning: Function get_feature_names is deprecated; get_feature_names is deprecated in 1.0 and will be removed in 1.2. Please use get_feature_names_out instead.\n",
      "  warnings.warn(msg, category=FutureWarning)\n",
      "/Users/YingyuChen/opt/anaconda3/lib/python3.8/site-packages/sklearn/utils/deprecation.py:87: FutureWarning: Function get_feature_names is deprecated; get_feature_names is deprecated in 1.0 and will be removed in 1.2. Please use get_feature_names_out instead.\n",
      "  warnings.warn(msg, category=FutureWarning)\n",
      "/Users/YingyuChen/opt/anaconda3/lib/python3.8/site-packages/sklearn/utils/deprecation.py:87: FutureWarning: Function get_feature_names is deprecated; get_feature_names is deprecated in 1.0 and will be removed in 1.2. Please use get_feature_names_out instead.\n",
      "  warnings.warn(msg, category=FutureWarning)\n",
      "/Users/YingyuChen/opt/anaconda3/lib/python3.8/site-packages/sklearn/utils/deprecation.py:87: FutureWarning: Function get_feature_names is deprecated; get_feature_names is deprecated in 1.0 and will be removed in 1.2. Please use get_feature_names_out instead.\n",
      "  warnings.warn(msg, category=FutureWarning)\n"
     ]
    }
   ],
   "source": [
    "documents = df.text.tolist()\n",
    "vectorizer = TfidfVectorizer(max_df=.5, min_df=1, stop_words=stop_words)\n",
    "transformed_documents = vectorizer.fit_transform(documents)\n",
    "transformed_documents_as_array = transformed_documents.toarray()\n",
    "dates = df.dates.tolist()\n",
    "tfidf_results = []\n",
    "for counter, doc in enumerate(transformed_documents_as_array):\n",
    "    # construct a dataframe\n",
    "    tf_idf_tuples = list(zip(vectorizer.get_feature_names(), doc))\n",
    "    one_doc_as_df = pd.DataFrame.from_records(tf_idf_tuples, columns=['term', 'score']).sort_values(by='score', ascending=False).reset_index(drop=True)\n",
    "    one_doc_as_df['dates'] = dates[counter]\n",
    "    tfidf_results.append(one_doc_as_df)"
   ]
  },
  {
   "cell_type": "code",
   "execution_count": 17,
   "id": "de78eee3",
   "metadata": {},
   "outputs": [
    {
     "data": {
      "text/html": [
       "<div>\n",
       "<style scoped>\n",
       "    .dataframe tbody tr th:only-of-type {\n",
       "        vertical-align: middle;\n",
       "    }\n",
       "\n",
       "    .dataframe tbody tr th {\n",
       "        vertical-align: top;\n",
       "    }\n",
       "\n",
       "    .dataframe thead th {\n",
       "        text-align: right;\n",
       "    }\n",
       "</style>\n",
       "<table border=\"1\" class=\"dataframe\">\n",
       "  <thead>\n",
       "    <tr style=\"text-align: right;\">\n",
       "      <th></th>\n",
       "      <th>term</th>\n",
       "      <th>score</th>\n",
       "      <th>dates</th>\n",
       "    </tr>\n",
       "  </thead>\n",
       "  <tbody>\n",
       "    <tr>\n",
       "      <th>0</th>\n",
       "      <td>ninch</td>\n",
       "      <td>0.841249</td>\n",
       "      <td>2002-2003</td>\n",
       "    </tr>\n",
       "    <tr>\n",
       "      <th>0</th>\n",
       "      <td>ninch</td>\n",
       "      <td>0.822897</td>\n",
       "      <td>2000-2001</td>\n",
       "    </tr>\n",
       "    <tr>\n",
       "      <th>0</th>\n",
       "      <td>ninch</td>\n",
       "      <td>0.790522</td>\n",
       "      <td>2001-2002</td>\n",
       "    </tr>\n",
       "    <tr>\n",
       "      <th>0</th>\n",
       "      <td>utorepas</td>\n",
       "      <td>0.766377</td>\n",
       "      <td>1987-1988</td>\n",
       "    </tr>\n",
       "    <tr>\n",
       "      <th>0</th>\n",
       "      <td>ninch</td>\n",
       "      <td>0.671890</td>\n",
       "      <td>1999-2000</td>\n",
       "    </tr>\n",
       "    <tr>\n",
       "      <th>0</th>\n",
       "      <td>ninch</td>\n",
       "      <td>0.648168</td>\n",
       "      <td>1998-1999</td>\n",
       "    </tr>\n",
       "    <tr>\n",
       "      <th>1</th>\n",
       "      <td>amico</td>\n",
       "      <td>0.444180</td>\n",
       "      <td>1999-2000</td>\n",
       "    </tr>\n",
       "    <tr>\n",
       "      <th>0</th>\n",
       "      <td>fqs</td>\n",
       "      <td>0.426306</td>\n",
       "      <td>2005-2006</td>\n",
       "    </tr>\n",
       "    <tr>\n",
       "      <th>0</th>\n",
       "      <td>ninch</td>\n",
       "      <td>0.412630</td>\n",
       "      <td>1997-1998</td>\n",
       "    </tr>\n",
       "    <tr>\n",
       "      <th>0</th>\n",
       "      <td>wmccarty</td>\n",
       "      <td>0.384587</td>\n",
       "      <td>2007-2008</td>\n",
       "    </tr>\n",
       "  </tbody>\n",
       "</table>\n",
       "</div>"
      ],
      "text/plain": [
       "       term     score      dates\n",
       "0     ninch  0.841249  2002-2003\n",
       "0     ninch  0.822897  2000-2001\n",
       "0     ninch  0.790522  2001-2002\n",
       "0  utorepas  0.766377  1987-1988\n",
       "0     ninch  0.671890  1999-2000\n",
       "0     ninch  0.648168  1998-1999\n",
       "1     amico  0.444180  1999-2000\n",
       "0       fqs  0.426306  2005-2006\n",
       "0     ninch  0.412630  1997-1998\n",
       "0  wmccarty  0.384587  2007-2008"
      ]
     },
     "execution_count": 17,
     "metadata": {},
     "output_type": "execute_result"
    }
   ],
   "source": [
    "tfidf_df = pd.concat(tfidf_results)\n",
    "tfidf_df = tfidf_df.sort_values(by=['score'], ascending=False)\n",
    "tfidf_df.head(10)"
   ]
  },
  {
   "cell_type": "code",
   "execution_count": 39,
   "id": "4f7264b8",
   "metadata": {},
   "outputs": [],
   "source": [
    "tfidi_sort = tfidf_df.sort_values(by=['score'], ascending=False)"
   ]
  },
  {
   "cell_type": "code",
   "execution_count": 40,
   "id": "c3bc1be2",
   "metadata": {},
   "outputs": [],
   "source": [
    "words = tfidi_sort.term.unique()[:10]"
   ]
  },
  {
   "cell_type": "code",
   "execution_count": 45,
   "id": "93ac38a1",
   "metadata": {},
   "outputs": [
    {
     "name": "stdout",
     "output_type": "stream",
     "text": [
      "['ninch' 'utorepas' 'amico' 'fqs' 'wmccarty' 'fludd' 'google' 'elra'\n",
      " 'wikipedia' '7848']\n"
     ]
    }
   ],
   "source": [
    "print(words)"
   ]
  },
  {
   "cell_type": "code",
   "execution_count": 49,
   "id": "7b8d36c4",
   "metadata": {},
   "outputs": [],
   "source": [
    "# top ten unique TFIDF terms \n",
    "top_ten_tfidf = tfidi_sort.drop_duplicates(subset =\"term\",keep = 'first').head(10)"
   ]
  },
  {
   "cell_type": "code",
   "execution_count": 50,
   "id": "90bc2c08",
   "metadata": {},
   "outputs": [
    {
     "data": {
      "text/html": [
       "<div>\n",
       "<style scoped>\n",
       "    .dataframe tbody tr th:only-of-type {\n",
       "        vertical-align: middle;\n",
       "    }\n",
       "\n",
       "    .dataframe tbody tr th {\n",
       "        vertical-align: top;\n",
       "    }\n",
       "\n",
       "    .dataframe thead th {\n",
       "        text-align: right;\n",
       "    }\n",
       "</style>\n",
       "<table border=\"1\" class=\"dataframe\">\n",
       "  <thead>\n",
       "    <tr style=\"text-align: right;\">\n",
       "      <th></th>\n",
       "      <th>term</th>\n",
       "      <th>score</th>\n",
       "      <th>dates</th>\n",
       "    </tr>\n",
       "  </thead>\n",
       "  <tbody>\n",
       "    <tr>\n",
       "      <th>0</th>\n",
       "      <td>ninch</td>\n",
       "      <td>0.841249</td>\n",
       "      <td>2002-2003</td>\n",
       "    </tr>\n",
       "    <tr>\n",
       "      <th>0</th>\n",
       "      <td>utorepas</td>\n",
       "      <td>0.766377</td>\n",
       "      <td>1987-1988</td>\n",
       "    </tr>\n",
       "    <tr>\n",
       "      <th>1</th>\n",
       "      <td>amico</td>\n",
       "      <td>0.444180</td>\n",
       "      <td>1999-2000</td>\n",
       "    </tr>\n",
       "    <tr>\n",
       "      <th>0</th>\n",
       "      <td>fqs</td>\n",
       "      <td>0.426306</td>\n",
       "      <td>2005-2006</td>\n",
       "    </tr>\n",
       "    <tr>\n",
       "      <th>0</th>\n",
       "      <td>wmccarty</td>\n",
       "      <td>0.384587</td>\n",
       "      <td>2007-2008</td>\n",
       "    </tr>\n",
       "    <tr>\n",
       "      <th>1</th>\n",
       "      <td>fludd</td>\n",
       "      <td>0.337311</td>\n",
       "      <td>2007-2008</td>\n",
       "    </tr>\n",
       "    <tr>\n",
       "      <th>0</th>\n",
       "      <td>google</td>\n",
       "      <td>0.333120</td>\n",
       "      <td>2004-2005</td>\n",
       "    </tr>\n",
       "    <tr>\n",
       "      <th>1</th>\n",
       "      <td>elra</td>\n",
       "      <td>0.321378</td>\n",
       "      <td>1997-1998</td>\n",
       "    </tr>\n",
       "    <tr>\n",
       "      <th>1</th>\n",
       "      <td>wikipedia</td>\n",
       "      <td>0.316421</td>\n",
       "      <td>2005-2006</td>\n",
       "    </tr>\n",
       "    <tr>\n",
       "      <th>0</th>\n",
       "      <td>7848</td>\n",
       "      <td>0.301380</td>\n",
       "      <td>2003-2004</td>\n",
       "    </tr>\n",
       "  </tbody>\n",
       "</table>\n",
       "</div>"
      ],
      "text/plain": [
       "        term     score      dates\n",
       "0      ninch  0.841249  2002-2003\n",
       "0   utorepas  0.766377  1987-1988\n",
       "1      amico  0.444180  1999-2000\n",
       "0        fqs  0.426306  2005-2006\n",
       "0   wmccarty  0.384587  2007-2008\n",
       "1      fludd  0.337311  2007-2008\n",
       "0     google  0.333120  2004-2005\n",
       "1       elra  0.321378  1997-1998\n",
       "1  wikipedia  0.316421  2005-2006\n",
       "0       7848  0.301380  2003-2004"
      ]
     },
     "execution_count": 50,
     "metadata": {},
     "output_type": "execute_result"
    }
   ],
   "source": [
    "top_ten_tfidf"
   ]
  },
  {
   "cell_type": "code",
   "execution_count": 60,
   "id": "77e0e382",
   "metadata": {},
   "outputs": [
    {
     "data": {
      "text/plain": [
       "RendererRegistry.enable('mimetype')"
      ]
     },
     "execution_count": 60,
     "metadata": {},
     "output_type": "execute_result"
    }
   ],
   "source": [
    "\n",
    "import altair as alt\n",
    "from vega_datasets import data\n",
    "alt.renderers.enable('mimetype')\n"
   ]
  },
  {
   "cell_type": "code",
   "execution_count": 61,
   "id": "f43efeb3",
   "metadata": {},
   "outputs": [
    {
     "data": {
      "text/plain": [
       "<AxesSubplot:>"
      ]
     },
     "execution_count": 61,
     "metadata": {},
     "output_type": "execute_result"
    },
    {
     "data": {
      "image/png": "[encoded data removed]",
      "text/plain": [
       "<Figure size 432x288 with 1 Axes>"
      ]
     },
     "metadata": {
      "needs_background": "light"
     },
     "output_type": "display_data"
    }
   ],
   "source": [
    "top_10 = top_ten_tfidf[['term', 'score']]\n",
    "top_10.plot()"
   ]
  },
  {
   "cell_type": "code",
   "execution_count": 63,
   "id": "4f78512a",
   "metadata": {},
   "outputs": [
    {
     "data": {
      "application/vnd.vegalite.v4+json": {
       "$schema": "https://vega.github.io/schema/vega-lite/v4.17.0.json",
       "config": {
        "view": {
         "continuousHeight": 300,
         "continuousWidth": 400
        }
       },
       "data": {
        "name": "data-1360cd5eed281dbc68b5254790f1a7f2"
       },
       "datasets": {
        "data-1360cd5eed281dbc68b5254790f1a7f2": [
         {
          "score": 0.8412488434364231,
          "term": "ninch"
         },
         {
          "score": 0.7663766644826691,
          "term": "utorepas"
         },
         {
          "score": 0.44417977568952444,
          "term": "amico"
         },
         {
          "score": 0.4263057414607545,
          "term": "fqs"
         },
         {
          "score": 0.38458739237882317,
          "term": "wmccarty"
         },
         {
          "score": 0.33731140748526584,
          "term": "fludd"
         },
         {
          "score": 0.33312046973389425,
          "term": "google"
         },
         {
          "score": 0.32137779608760203,
          "term": "elra"
         },
         {
          "score": 0.3164209145414162,
          "term": "wikipedia"
         },
         {
          "score": 0.30137984943855733,
          "term": "7848"
         }
        ]
       },
       "encoding": {
        "x": {
         "field": "score",
         "type": "quantitative"
        },
        "y": {
         "field": "term",
         "type": "nominal"
        }
       },
       "mark": "line"
      },
      "text/plain": [
       "<VegaLite 4 object>\n",
       "\n",
       "If you see this message, it means the renderer has not been properly enabled\n",
       "for the frontend that you are using. For more information, see\n",
       "https://altair-viz.github.io/user_guide/troubleshooting.html\n"
      ]
     },
     "execution_count": 63,
     "metadata": {},
     "output_type": "execute_result"
    }
   ],
   "source": [
    "alt.Chart(top_10).mark_line().encode(\n",
    "    x='score',\n",
    "    y='term'\n",
    ")"
   ]
  },
  {
   "cell_type": "code",
   "execution_count": null,
   "id": "3b900d80",
   "metadata": {},
   "outputs": [],
   "source": []
  },
  {
   "cell_type": "code",
   "execution_count": null,
   "id": "f23cd153",
   "metadata": {},
   "outputs": [],
   "source": []
  },
  {
   "cell_type": "code",
   "execution_count": null,
   "id": "3b4f8bc4",
   "metadata": {},
   "outputs": [],
   "source": []
  }
 ],
 "metadata": {
  "kernelspec": {
   "display_name": "Python 3 (ipykernel)",
   "language": "python",
   "name": "python3"
  },
  "language_info": {
   "codemirror_mode": {
    "name": "ipython",
    "version": 3
   },
   "file_extension": ".py",
   "mimetype": "text/x-python",
   "name": "python",
   "nbconvert_exporter": "python",
   "pygments_lexer": "ipython3",
   "version": "3.8.12"
  }
 },
 "nbformat": 4,
 "nbformat_minor": 5
}
